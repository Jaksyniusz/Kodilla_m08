{
 "cells": [
  {
   "cell_type": "markdown",
   "id": "06bcadaa-3c09-4713-997c-7708192ac861",
   "metadata": {},
   "source": [
    "## Ćwiczenie\n",
    "\n",
    "Do tabeli przypisanej do zmiennej df dodaj kolumny: e4, e5, e6. Niech wektory tych kolumn odzwierciedlają wyniki z kolejnych egzaminów w drugim semestrze Studentów A, B, C oraz D. Wyniki tych egzaminów niech będą losowane z liczb całkowitych o zakresie 1-100 włącznie. Następnie usuń kolumnę semester1. Po wykonaniu tych operacji stwórz indeks hierarchiczny dla kolumn tabeli, tak aby jego najwyższym rzędem było oznaczenie semestru, w którym napisany był dany egzamin."
   ]
  },
  {
   "cell_type": "code",
   "execution_count": null,
   "id": "3149e068-89b5-4a97-b308-df187244a7c5",
   "metadata": {},
   "outputs": [],
   "source": []
  }
 ],
 "metadata": {
  "kernelspec": {
   "display_name": "Python 3 (ipykernel)",
   "language": "python",
   "name": "python3"
  },
  "language_info": {
   "codemirror_mode": {
    "name": "ipython",
    "version": 3
   },
   "file_extension": ".py",
   "mimetype": "text/x-python",
   "name": "python",
   "nbconvert_exporter": "python",
   "pygments_lexer": "ipython3",
   "version": "3.13.2"
  }
 },
 "nbformat": 4,
 "nbformat_minor": 5
}
