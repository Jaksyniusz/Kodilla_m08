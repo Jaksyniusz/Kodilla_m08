{
 "cells": [
  {
   "cell_type": "markdown",
   "id": "fc2a7ec4-27d8-4148-9e5e-22603cc16c99",
   "metadata": {},
   "source": [
    "## Pliki csv"
   ]
  },
  {
   "cell_type": "code",
   "execution_count": 1,
   "id": "b54b37d5-0bd5-4129-a678-6e1a30d696c5",
   "metadata": {},
   "outputs": [],
   "source": [
    "# df = pd.read_csv('myCsvFile.csv')"
   ]
  },
  {
   "cell_type": "code",
   "execution_count": 2,
   "id": "a09f7051-f934-4771-b122-01fa9cdf78a5",
   "metadata": {},
   "outputs": [],
   "source": [
    "# df.to_csv('myNewCsvFile.csv', index=False)"
   ]
  },
  {
   "cell_type": "markdown",
   "id": "1567d1b1-d041-47cd-bf4a-5be3700bc1d6",
   "metadata": {},
   "source": [
    "## Praca z plikami Excel"
   ]
  },
  {
   "cell_type": "code",
   "execution_count": 3,
   "id": "37c01c49-88e8-4c68-b7f2-18ff9a7c118b",
   "metadata": {},
   "outputs": [],
   "source": [
    "import pandas as pd\n",
    "# df = pd.read_excel('myExcelFile.xlsx', sheet_name='my_data')"
   ]
  },
  {
   "cell_type": "code",
   "execution_count": 4,
   "id": "5e80e77c-5491-47f1-b081-05df5a7ba48e",
   "metadata": {},
   "outputs": [],
   "source": [
    "# df.to_excel('myNewExcelFile.xlsx', sheet_name='my_new_data')"
   ]
  },
  {
   "cell_type": "code",
   "execution_count": 5,
   "id": "5e4c70f6-fcf5-4c8e-bf0e-e10a9cb98773",
   "metadata": {},
   "outputs": [],
   "source": [
    "# writer = pd.ExcelWriter('pandas_simple.xlsx', engine='xlsxwriter')"
   ]
  },
  {
   "cell_type": "code",
   "execution_count": 6,
   "id": "e332dbcd-2063-400b-9b7b-3b18b86d4e7f",
   "metadata": {},
   "outputs": [],
   "source": [
    "# df.to_excel(writer, sheet_name='my_dfs')\n",
    "# df.to_excel(writer, sheet_name='my_dfs', startcol=6, startrow=5, index=False)"
   ]
  },
  {
   "cell_type": "code",
   "execution_count": 7,
   "id": "b9cb8da8-593d-46e0-bb28-de4fe062deb9",
   "metadata": {},
   "outputs": [],
   "source": [
    "# writer.save()"
   ]
  },
  {
   "cell_type": "code",
   "execution_count": 8,
   "id": "f362648d-3a73-49ec-a133-84017005b426",
   "metadata": {},
   "outputs": [],
   "source": [
    "# writer = pd.ExcelWriter('many_sheets.xlsx', engine='xlsxwriter')\n",
    "\n",
    "# df.to_excel(writer, sheet_name='my_df1')\n",
    "# df.to_excel(writer, sheet_name='my_df2')\n",
    "\n",
    "# writer.save()"
   ]
  },
  {
   "cell_type": "code",
   "execution_count": 9,
   "id": "26529756-58d1-40fe-9874-191a6b9fa824",
   "metadata": {},
   "outputs": [],
   "source": [
    "# writer = pd.ExcelWriter('add_chart.xlsx', engine='xlsxwriter')\n",
    "# df.to_excel(writer, sheet_name='my_chart')"
   ]
  },
  {
   "cell_type": "code",
   "execution_count": 10,
   "id": "4e8faeb6-d9fd-4587-859d-7870637cd5d4",
   "metadata": {},
   "outputs": [],
   "source": [
    "# workbook = writer.book\n",
    "# worksheet = writer.sheets['my_chart']"
   ]
  },
  {
   "cell_type": "code",
   "execution_count": 11,
   "id": "61937e51-5f31-4337-b9bd-2e5a440bafe7",
   "metadata": {},
   "outputs": [],
   "source": [
    "# chart = workbook.add_chart({'type':'line'})"
   ]
  },
  {
   "cell_type": "code",
   "execution_count": 1,
   "id": "dac3eaee-76e5-4f12-94f2-55927647dea6",
   "metadata": {},
   "outputs": [],
   "source": [
    "# def grab_series(df, sheet_name, colname, startcol=0, startrow=0):\n",
    "\n",
    "#    col_index = df.columns.tolist().index(colname)\n",
    "#    col_letter = chr(ord('@')+(col_index+2+startcol))\n",
    "#    first_row = startrow + 2\n",
    "#    last_row = startrow + 1 + len(df)\n",
    "#    return f\"='{sheet_name}'!{col_letter}{first_row}:{col_letter}{last_row}\""
   ]
  },
  {
   "cell_type": "code",
   "execution_count": 2,
   "id": "c4738e88-b961-4d1e-b5af-475c66c8327a",
   "metadata": {},
   "outputs": [],
   "source": [
    "# chart.add_series({'values':grab_series(df,'my_chart','B')})"
   ]
  },
  {
   "cell_type": "code",
   "execution_count": 3,
   "id": "70d02fa4-e698-4a8f-b6c9-2b73a79cd817",
   "metadata": {},
   "outputs": [],
   "source": [
    "# chart.set_x_axis({\n",
    "#    'name': 'x^2',\n",
    "#    'name_font': {'size': 14, 'bold': True},\n",
    "#    'num_font':  {'italic': True },\n",
    "# })"
   ]
  },
  {
   "cell_type": "code",
   "execution_count": 4,
   "id": "984f5826-07e2-4ba6-ad2b-1d24b5abcf51",
   "metadata": {},
   "outputs": [],
   "source": [
    "# chart.set_legend({'none': True})"
   ]
  },
  {
   "cell_type": "code",
   "execution_count": 5,
   "id": "876b2e7e-afbe-4ce6-90b6-1b54fe751653",
   "metadata": {},
   "outputs": [],
   "source": [
    "# worksheet.insert_chart('F2', chart)"
   ]
  },
  {
   "cell_type": "code",
   "execution_count": 6,
   "id": "a77d8c94-0100-47e9-9a14-87e97e6e4ff0",
   "metadata": {},
   "outputs": [],
   "source": [
    "# writer.save()\n",
    "# workbook.close()"
   ]
  },
  {
   "cell_type": "code",
   "execution_count": 7,
   "id": "374df820-00b2-47d9-9902-0998219bf670",
   "metadata": {},
   "outputs": [],
   "source": [
    "# writer = pd.ExcelWriter('conditional_format.xlsx', engine='xlsxwriter')\n",
    "\n",
    "# df.to_excel(writer, sheet_name='my_conditional')\n",
    "\n",
    "# workbook = writer.book\n",
    "# worksheet = writer.sheets['my_conditional']"
   ]
  },
  {
   "cell_type": "code",
   "execution_count": 8,
   "id": "018e3f7d-2c1f-4573-ae75-6cea4982eeee",
   "metadata": {},
   "outputs": [],
   "source": [
    "# format1 = workbook.add_format({'bg_color':   '#FFC7CE',\n",
    "#                               'font_color': '#9C0006'})"
   ]
  },
  {
   "cell_type": "code",
   "execution_count": 9,
   "id": "86d77c4e-c033-4bda-9443-6667d28e21ba",
   "metadata": {},
   "outputs": [],
   "source": [
    "# worksheet.conditional_format(\"D2:D12\",{'type': 'cell',\n",
    "#                                      'criteria':'>=',\n",
    "#                                      'value':300,\n",
    "#                                      'format':format1})"
   ]
  },
  {
   "cell_type": "code",
   "execution_count": 10,
   "id": "2ad79216-2e89-4ebc-bbdc-8a5bf3146603",
   "metadata": {},
   "outputs": [],
   "source": [
    "# worksheet.write_string('A16','Podaj liczbę całkowitą większą od 0:')"
   ]
  },
  {
   "cell_type": "code",
   "execution_count": 11,
   "id": "c22b47cc-11f0-4758-a6fa-b98ce549d632",
   "metadata": {},
   "outputs": [],
   "source": [
    "# worksheet.data_validation('B16', {\n",
    "#    'validate':'integer',\n",
    "#    'criteria':'>',\n",
    "#    'value':0\n",
    "#})"
   ]
  },
  {
   "cell_type": "code",
   "execution_count": 12,
   "id": "4124f969-becf-439f-81a6-a68c47d3f998",
   "metadata": {},
   "outputs": [],
   "source": [
    "# worksheet.set_column('A:A',35)"
   ]
  },
  {
   "cell_type": "code",
   "execution_count": 13,
   "id": "edbac997-67b3-4f68-969f-7f6580a7bf1e",
   "metadata": {},
   "outputs": [],
   "source": [
    "# writer.save()\n",
    "# workbook.close()"
   ]
  },
  {
   "cell_type": "markdown",
   "id": "7391d4df-2a65-4565-8fd7-94702224dd68",
   "metadata": {},
   "source": [
    "## Tabele HTML"
   ]
  },
  {
   "cell_type": "code",
   "execution_count": 15,
   "id": "aca86f27-8e91-421c-9fe7-53635d8d63e3",
   "metadata": {},
   "outputs": [],
   "source": [
    "import pandas as pd\n",
    "data = pd.read_html('https://pl.wikipedia.org/wiki/Miasta_w_Polsce', header=0)"
   ]
  },
  {
   "cell_type": "code",
   "execution_count": 16,
   "id": "71130a3f-c441-41a9-95b5-85a2c26c1748",
   "metadata": {},
   "outputs": [
    {
     "data": {
      "text/plain": [
       "list"
      ]
     },
     "execution_count": 16,
     "metadata": {},
     "output_type": "execute_result"
    }
   ],
   "source": [
    "type(data)"
   ]
  },
  {
   "cell_type": "code",
   "execution_count": 17,
   "id": "aa9ad82c-8150-4a58-b798-055266f98e65",
   "metadata": {},
   "outputs": [
    {
     "data": {
      "text/html": [
       "<div>\n",
       "<style scoped>\n",
       "    .dataframe tbody tr th:only-of-type {\n",
       "        vertical-align: middle;\n",
       "    }\n",
       "\n",
       "    .dataframe tbody tr th {\n",
       "        vertical-align: top;\n",
       "    }\n",
       "\n",
       "    .dataframe thead th {\n",
       "        text-align: right;\n",
       "    }\n",
       "</style>\n",
       "<table border=\"1\" class=\"dataframe\">\n",
       "  <thead>\n",
       "    <tr style=\"text-align: right;\">\n",
       "      <th></th>\n",
       "      <th>Lp.</th>\n",
       "      <th>Miasto</th>\n",
       "      <th>Województwo</th>\n",
       "      <th>Liczba mieszkańców</th>\n",
       "      <th>Gęstość zaludnienia [osoby/km²]</th>\n",
       "    </tr>\n",
       "  </thead>\n",
       "  <tbody>\n",
       "    <tr>\n",
       "      <th>0</th>\n",
       "      <td>1.0</td>\n",
       "      <td>Warszawa</td>\n",
       "      <td>mazowieckie</td>\n",
       "      <td>1 862 402</td>\n",
       "      <td>3601</td>\n",
       "    </tr>\n",
       "    <tr>\n",
       "      <th>1</th>\n",
       "      <td>2.0</td>\n",
       "      <td>Kraków</td>\n",
       "      <td>małopolskie</td>\n",
       "      <td>807 644</td>\n",
       "      <td>2471</td>\n",
       "    </tr>\n",
       "    <tr>\n",
       "      <th>2</th>\n",
       "      <td>3.0</td>\n",
       "      <td>Wrocław</td>\n",
       "      <td>dolnośląskie</td>\n",
       "      <td>673 531</td>\n",
       "      <td>2300</td>\n",
       "    </tr>\n",
       "    <tr>\n",
       "      <th>3</th>\n",
       "      <td>4.0</td>\n",
       "      <td>Łódź</td>\n",
       "      <td>łódzkie</td>\n",
       "      <td>648 711</td>\n",
       "      <td>2212</td>\n",
       "    </tr>\n",
       "    <tr>\n",
       "      <th>4</th>\n",
       "      <td>5.0</td>\n",
       "      <td>Poznań</td>\n",
       "      <td>wielkopolskie</td>\n",
       "      <td>536 818</td>\n",
       "      <td>2050</td>\n",
       "    </tr>\n",
       "    <tr>\n",
       "      <th>5</th>\n",
       "      <td>6.0</td>\n",
       "      <td>Gdańsk</td>\n",
       "      <td>pomorskie</td>\n",
       "      <td>487 834</td>\n",
       "      <td>714</td>\n",
       "    </tr>\n",
       "    <tr>\n",
       "      <th>6</th>\n",
       "      <td>7.0</td>\n",
       "      <td>Szczecin</td>\n",
       "      <td>zachodniopomorskie</td>\n",
       "      <td>387 700</td>\n",
       "      <td>1290</td>\n",
       "    </tr>\n",
       "    <tr>\n",
       "      <th>7</th>\n",
       "      <td>8.0</td>\n",
       "      <td>Lublin</td>\n",
       "      <td>lubelskie</td>\n",
       "      <td>328 868</td>\n",
       "      <td>2230</td>\n",
       "    </tr>\n",
       "    <tr>\n",
       "      <th>8</th>\n",
       "      <td>9.0</td>\n",
       "      <td>Bydgoszcz</td>\n",
       "      <td>kujawsko-pomorskie</td>\n",
       "      <td>324 984</td>\n",
       "      <td>1847</td>\n",
       "    </tr>\n",
       "    <tr>\n",
       "      <th>9</th>\n",
       "      <td>10.0</td>\n",
       "      <td>Białystok</td>\n",
       "      <td>podlaskie</td>\n",
       "      <td>290 907</td>\n",
       "      <td>2848</td>\n",
       "    </tr>\n",
       "  </tbody>\n",
       "</table>\n",
       "</div>"
      ],
      "text/plain": [
       "    Lp.     Miasto         Województwo Liczba mieszkańców  \\\n",
       "0   1.0   Warszawa         mazowieckie          1 862 402   \n",
       "1   2.0     Kraków         małopolskie            807 644   \n",
       "2   3.0    Wrocław        dolnośląskie            673 531   \n",
       "3   4.0       Łódź             łódzkie            648 711   \n",
       "4   5.0     Poznań       wielkopolskie            536 818   \n",
       "5   6.0     Gdańsk           pomorskie            487 834   \n",
       "6   7.0   Szczecin  zachodniopomorskie            387 700   \n",
       "7   8.0     Lublin           lubelskie            328 868   \n",
       "8   9.0  Bydgoszcz  kujawsko-pomorskie            324 984   \n",
       "9  10.0  Białystok           podlaskie            290 907   \n",
       "\n",
       "   Gęstość zaludnienia [osoby/km²]  \n",
       "0                             3601  \n",
       "1                             2471  \n",
       "2                             2300  \n",
       "3                             2212  \n",
       "4                             2050  \n",
       "5                              714  \n",
       "6                             1290  \n",
       "7                             2230  \n",
       "8                             1847  \n",
       "9                             2848  "
      ]
     },
     "execution_count": 17,
     "metadata": {},
     "output_type": "execute_result"
    }
   ],
   "source": [
    "data[0]"
   ]
  },
  {
   "cell_type": "code",
   "execution_count": 18,
   "id": "2757a454-70e1-4a9a-907e-754c722af87c",
   "metadata": {},
   "outputs": [
    {
     "data": {
      "text/html": [
       "<div>\n",
       "<style scoped>\n",
       "    .dataframe tbody tr th:only-of-type {\n",
       "        vertical-align: middle;\n",
       "    }\n",
       "\n",
       "    .dataframe tbody tr th {\n",
       "        vertical-align: top;\n",
       "    }\n",
       "\n",
       "    .dataframe thead th {\n",
       "        text-align: right;\n",
       "    }\n",
       "</style>\n",
       "<table border=\"1\" class=\"dataframe\">\n",
       "  <thead>\n",
       "    <tr style=\"text-align: right;\">\n",
       "      <th></th>\n",
       "      <th>Lp.</th>\n",
       "      <th>Miasto</th>\n",
       "      <th>Województwo</th>\n",
       "      <th>Powierzchnia [ha]</th>\n",
       "    </tr>\n",
       "  </thead>\n",
       "  <tbody>\n",
       "    <tr>\n",
       "      <th>0</th>\n",
       "      <td>1.0</td>\n",
       "      <td>Gdańsk</td>\n",
       "      <td>pomorskie</td>\n",
       "      <td>68 300</td>\n",
       "    </tr>\n",
       "    <tr>\n",
       "      <th>1</th>\n",
       "      <td>2.0</td>\n",
       "      <td>Warszawa</td>\n",
       "      <td>mazowieckie</td>\n",
       "      <td>51 720</td>\n",
       "    </tr>\n",
       "    <tr>\n",
       "      <th>2</th>\n",
       "      <td>3.0</td>\n",
       "      <td>Gdynia</td>\n",
       "      <td>pomorskie</td>\n",
       "      <td>39 151</td>\n",
       "    </tr>\n",
       "    <tr>\n",
       "      <th>3</th>\n",
       "      <td>4.0</td>\n",
       "      <td>Kraków</td>\n",
       "      <td>małopolskie</td>\n",
       "      <td>32 685</td>\n",
       "    </tr>\n",
       "    <tr>\n",
       "      <th>4</th>\n",
       "      <td>5.0</td>\n",
       "      <td>Szczecin</td>\n",
       "      <td>zachodniopomorskie</td>\n",
       "      <td>30 062</td>\n",
       "    </tr>\n",
       "    <tr>\n",
       "      <th>5</th>\n",
       "      <td>6.0</td>\n",
       "      <td>Łódź</td>\n",
       "      <td>łódzkie</td>\n",
       "      <td>29 325</td>\n",
       "    </tr>\n",
       "    <tr>\n",
       "      <th>6</th>\n",
       "      <td>7.0</td>\n",
       "      <td>Wrocław</td>\n",
       "      <td>dolnośląskie</td>\n",
       "      <td>29 280</td>\n",
       "    </tr>\n",
       "    <tr>\n",
       "      <th>7</th>\n",
       "      <td>8.0</td>\n",
       "      <td>Zielona Góra</td>\n",
       "      <td>lubuskie</td>\n",
       "      <td>27 536</td>\n",
       "    </tr>\n",
       "    <tr>\n",
       "      <th>8</th>\n",
       "      <td>9.0</td>\n",
       "      <td>Poznań</td>\n",
       "      <td>wielkopolskie</td>\n",
       "      <td>26 191</td>\n",
       "    </tr>\n",
       "    <tr>\n",
       "      <th>9</th>\n",
       "      <td>10.0</td>\n",
       "      <td>Świnoujście</td>\n",
       "      <td>zachodniopomorskie</td>\n",
       "      <td>20 207</td>\n",
       "    </tr>\n",
       "  </tbody>\n",
       "</table>\n",
       "</div>"
      ],
      "text/plain": [
       "    Lp.        Miasto         Województwo Powierzchnia [ha]\n",
       "0   1.0        Gdańsk           pomorskie            68 300\n",
       "1   2.0      Warszawa         mazowieckie            51 720\n",
       "2   3.0        Gdynia           pomorskie            39 151\n",
       "3   4.0        Kraków         małopolskie            32 685\n",
       "4   5.0      Szczecin  zachodniopomorskie            30 062\n",
       "5   6.0          Łódź             łódzkie            29 325\n",
       "6   7.0       Wrocław        dolnośląskie            29 280\n",
       "7   8.0  Zielona Góra            lubuskie            27 536\n",
       "8   9.0        Poznań       wielkopolskie            26 191\n",
       "9  10.0   Świnoujście  zachodniopomorskie            20 207"
      ]
     },
     "execution_count": 18,
     "metadata": {},
     "output_type": "execute_result"
    }
   ],
   "source": [
    "data[1]"
   ]
  }
 ],
 "metadata": {
  "kernelspec": {
   "display_name": "Python 3 (ipykernel)",
   "language": "python",
   "name": "python3"
  },
  "language_info": {
   "codemirror_mode": {
    "name": "ipython",
    "version": 3
   },
   "file_extension": ".py",
   "mimetype": "text/x-python",
   "name": "python",
   "nbconvert_exporter": "python",
   "pygments_lexer": "ipython3",
   "version": "3.13.2"
  }
 },
 "nbformat": 4,
 "nbformat_minor": 5
}
