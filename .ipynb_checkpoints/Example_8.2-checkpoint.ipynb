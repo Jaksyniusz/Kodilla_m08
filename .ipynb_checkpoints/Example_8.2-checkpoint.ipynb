{
 "cells": [
  {
   "cell_type": "markdown",
   "id": "fc2a7ec4-27d8-4148-9e5e-22603cc16c99",
   "metadata": {},
   "source": [
    "## Pliki csv"
   ]
  },
  {
   "cell_type": "code",
   "execution_count": 1,
   "id": "b54b37d5-0bd5-4129-a678-6e1a30d696c5",
   "metadata": {},
   "outputs": [],
   "source": [
    "# df = pd.read_csv('myCsvFile.csv')"
   ]
  },
  {
   "cell_type": "code",
   "execution_count": 2,
   "id": "a09f7051-f934-4771-b122-01fa9cdf78a5",
   "metadata": {},
   "outputs": [],
   "source": [
    "# df.to_csv('myNewCsvFile.csv', index=False)"
   ]
  },
  {
   "cell_type": "markdown",
   "id": "1567d1b1-d041-47cd-bf4a-5be3700bc1d6",
   "metadata": {},
   "source": [
    "## Praca z plikami Excel"
   ]
  },
  {
   "cell_type": "code",
   "execution_count": 3,
   "id": "37c01c49-88e8-4c68-b7f2-18ff9a7c118b",
   "metadata": {},
   "outputs": [],
   "source": [
    "import pandas as pd\n",
    "# df = pd.read_excel('myExcelFile.xlsx', sheet_name='my_data')"
   ]
  },
  {
   "cell_type": "code",
   "execution_count": 4,
   "id": "5e80e77c-5491-47f1-b081-05df5a7ba48e",
   "metadata": {},
   "outputs": [],
   "source": [
    "# df.to_excel('myNewExcelFile.xlsx', sheet_name='my_new_data')"
   ]
  },
  {
   "cell_type": "code",
   "execution_count": 5,
   "id": "5e4c70f6-fcf5-4c8e-bf0e-e10a9cb98773",
   "metadata": {},
   "outputs": [],
   "source": [
    "# writer = pd.ExcelWriter('pandas_simple.xlsx', engine='xlsxwriter')"
   ]
  },
  {
   "cell_type": "code",
   "execution_count": 6,
   "id": "e332dbcd-2063-400b-9b7b-3b18b86d4e7f",
   "metadata": {},
   "outputs": [],
   "source": [
    "# df.to_excel(writer, sheet_name='my_dfs')\n",
    "# df.to_excel(writer, sheet_name='my_dfs', startcol=6, startrow=5, index=False)"
   ]
  },
  {
   "cell_type": "code",
   "execution_count": 7,
   "id": "b9cb8da8-593d-46e0-bb28-de4fe062deb9",
   "metadata": {},
   "outputs": [],
   "source": [
    "# writer.save()"
   ]
  },
  {
   "cell_type": "code",
   "execution_count": 8,
   "id": "f362648d-3a73-49ec-a133-84017005b426",
   "metadata": {},
   "outputs": [],
   "source": [
    "# writer = pd.ExcelWriter('many_sheets.xlsx', engine='xlsxwriter')\n",
    "\n",
    "# df.to_excel(writer, sheet_name='my_df1')\n",
    "# df.to_excel(writer, sheet_name='my_df2')\n",
    "\n",
    "# writer.save()"
   ]
  },
  {
   "cell_type": "code",
   "execution_count": 9,
   "id": "26529756-58d1-40fe-9874-191a6b9fa824",
   "metadata": {},
   "outputs": [],
   "source": [
    "# writer = pd.ExcelWriter('add_chart.xlsx', engine='xlsxwriter')\n",
    "# df.to_excel(writer, sheet_name='my_chart')"
   ]
  },
  {
   "cell_type": "code",
   "execution_count": 10,
   "id": "4e8faeb6-d9fd-4587-859d-7870637cd5d4",
   "metadata": {},
   "outputs": [],
   "source": [
    "# workbook = writer.book\n",
    "# worksheet = writer.sheets['my_chart']"
   ]
  },
  {
   "cell_type": "code",
   "execution_count": 11,
   "id": "61937e51-5f31-4337-b9bd-2e5a440bafe7",
   "metadata": {},
   "outputs": [],
   "source": [
    "# chart = workbook.add_chart({'type':'line'})"
   ]
  },
  {
   "cell_type": "code",
   "execution_count": null,
   "id": "dac3eaee-76e5-4f12-94f2-55927647dea6",
   "metadata": {},
   "outputs": [],
   "source": []
  }
 ],
 "metadata": {
  "kernelspec": {
   "display_name": "Python 3 (ipykernel)",
   "language": "python",
   "name": "python3"
  },
  "language_info": {
   "codemirror_mode": {
    "name": "ipython",
    "version": 3
   },
   "file_extension": ".py",
   "mimetype": "text/x-python",
   "name": "python",
   "nbconvert_exporter": "python",
   "pygments_lexer": "ipython3",
   "version": "3.13.2"
  }
 },
 "nbformat": 4,
 "nbformat_minor": 5
}
