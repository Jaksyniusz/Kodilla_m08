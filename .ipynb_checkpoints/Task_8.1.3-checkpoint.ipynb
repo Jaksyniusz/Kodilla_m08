{
 "cells": [
  {
   "cell_type": "markdown",
   "id": "75804cbd-fffa-42ee-9cbb-6e2ca5c8be28",
   "metadata": {},
   "source": [
    "## Ćwiczenie\n",
    "\n",
    "Użyj funkcji join, aby połączyć ze sobą tabele left oraz right według kolumny key."
   ]
  },
  {
   "cell_type": "code",
   "execution_count": 4,
   "id": "4909ff0b-a0db-43d5-9421-c6baa88fd2f0",
   "metadata": {},
   "outputs": [
    {
     "name": "stdout",
     "output_type": "stream",
     "text": [
      "     A_left B_left C_left D_left A_right B_right C_right D_right\n",
      "key                                                             \n",
      "key0     A0     B0     C0     D0      A8      B8      C8      D8\n",
      "key1     A1     B1     C1     D1      A9      B9      C9      D9\n",
      "key2     A2     B2     C2     D2     A10     B10     C10     D10\n",
      "key3     A3     B3     C3     D3     A11     B11     C11     D11\n"
     ]
    }
   ],
   "source": [
    "import pandas as pd\n",
    "\n",
    "# Ramki danych\n",
    "df1 = pd.DataFrame({'A': ['A0', 'A1', 'A2', 'A3'],\n",
    "                    'B': ['B0', 'B1', 'B2', 'B3'],\n",
    "                    'C': ['C0', 'C1', 'C2', 'C3'],\n",
    "                    'D': ['D0', 'D1', 'D2', 'D3']},\n",
    "                    index=[0, 1, 2, 3])\n",
    "\n",
    "df2 = pd.DataFrame({'A': ['A4', 'A5', 'A6', 'A7'],\n",
    "                    'B': ['B4', 'B5', 'B6', 'B7'],\n",
    "                    'C': ['C4', 'C5', 'C6', 'C7'],\n",
    "                    'D': ['D4', 'D5', 'D6', 'D7']},\n",
    "                    index=[4, 5, 6, 7])\n",
    "\n",
    "df3 = pd.DataFrame({'A': ['A8', 'A9', 'A10', 'A11'],\n",
    "                    'B': ['B8', 'B9', 'B10', 'B11'],\n",
    "                    'C': ['C8', 'C9', 'C10', 'C11'],\n",
    "                    'D': ['D8', 'D9', 'D10', 'D11']},\n",
    "                    index=[8, 9, 10, 11])\n",
    "\n",
    "# Funkcja do generowania kluczy\n",
    "def make_keys(n):\n",
    "    return [f'key{i}' for i in range(n)]\n",
    "\n",
    "# Dodanie kolumny 'key' do left i right\n",
    "left = df1.copy()\n",
    "left['key'] = make_keys(4)\n",
    "\n",
    "right = df3.copy()\n",
    "right['key'] = make_keys(4)\n",
    "\n",
    "# Połączenie tabel za pomocą join z sufiksami\n",
    "result = left.set_index('key').join(right.set_index('key'), lsuffix='_left', rsuffix='_right')\n",
    "\n",
    "print(result)"
   ]
  }
 ],
 "metadata": {
  "kernelspec": {
   "display_name": "Python 3 (ipykernel)",
   "language": "python",
   "name": "python3"
  },
  "language_info": {
   "codemirror_mode": {
    "name": "ipython",
    "version": 3
   },
   "file_extension": ".py",
   "mimetype": "text/x-python",
   "name": "python",
   "nbconvert_exporter": "python",
   "pygments_lexer": "ipython3",
   "version": "3.13.2"
  }
 },
 "nbformat": 4,
 "nbformat_minor": 5
}
