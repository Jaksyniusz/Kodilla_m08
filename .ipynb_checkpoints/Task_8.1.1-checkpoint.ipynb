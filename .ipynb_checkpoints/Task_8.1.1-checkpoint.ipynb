{
 "cells": [
  {
   "cell_type": "markdown",
   "id": "06bcadaa-3c09-4713-997c-7708192ac861",
   "metadata": {},
   "source": [
    "## Ćwiczenie\n",
    "\n",
    "Do tabeli przypisanej do zmiennej df dodaj kolumny: e4, e5, e6. Niech wektory tych kolumn odzwierciedlają wyniki z kolejnych egzaminów w drugim semestrze Studentów A, B, C oraz D. Wyniki tych egzaminów niech będą losowane z liczb całkowitych o zakresie 1-100 włącznie. Następnie usuń kolumnę semester1. Po wykonaniu tych operacji stwórz indeks hierarchiczny dla kolumn tabeli, tak aby jego najwyższym rzędem było oznaczenie semestru, w którym napisany był dany egzamin."
   ]
  },
  {
   "cell_type": "code",
   "execution_count": 1,
   "id": "3149e068-89b5-4a97-b308-df187244a7c5",
   "metadata": {},
   "outputs": [
    {
     "name": "stdout",
     "output_type": "stream",
     "text": [
      "          Semester 1         Semester 2         \n",
      "                  e1  e2  e3         e4  e5   e6\n",
      "Student A         89  74  67         52  61   75\n",
      "Student B         85  56  59         93  21   75\n",
      "Student C         93  44  79         15  83   88\n",
      "Student D         83  92  84         72  87  100\n"
     ]
    }
   ],
   "source": [
    "import pandas as pd\n",
    "import numpy as np\n",
    "\n",
    "# Dane wejściowe\n",
    "exam1 = [89, 85, 93, 83]\n",
    "exam2 = [74, 56, 44, 92]\n",
    "exam3 = [67, 59, 79, 84]\n",
    "labels = ['Student A', 'Student B', 'Student C', 'Student D']\n",
    "\n",
    "# Tworzenie ramki danych\n",
    "df = pd.DataFrame({'e1': exam1, 'e2': exam2, 'e3': exam3}, index=labels)\n",
    "\n",
    "# Dodanie kolumny semester1\n",
    "df['semester1'] = df['e1'] + df['e2'] + df['e3']\n",
    "\n",
    "# Dodanie kolumn e4, e5, e6 z losowymi wynikami z drugiego semestru\n",
    "np.random.seed(42)  # Ustawienie ziarna dla powtarzalności wyników\n",
    "df['e4'] = np.random.randint(1, 101, size=4)\n",
    "df['e5'] = np.random.randint(1, 101, size=4)\n",
    "df['e6'] = np.random.randint(1, 101, size=4)\n",
    "\n",
    "# Usunięcie kolumny semester1\n",
    "df.drop(columns=['semester1'], inplace=True)\n",
    "\n",
    "# Tworzenie hierarchicznego indeksu kolumn\n",
    "df.columns = pd.MultiIndex.from_tuples([\n",
    "    ('Semester 1', 'e1'),\n",
    "    ('Semester 1', 'e2'),\n",
    "    ('Semester 1', 'e3'),\n",
    "    ('Semester 2', 'e4'),\n",
    "    ('Semester 2', 'e5'),\n",
    "    ('Semester 2', 'e6')\n",
    "])\n",
    "\n",
    "print(df)"
   ]
  },
  {
   "cell_type": "code",
   "execution_count": null,
   "id": "4d62267a-3df2-45e7-b781-6ea0dd005dec",
   "metadata": {},
   "outputs": [],
   "source": []
  }
 ],
 "metadata": {
  "kernelspec": {
   "display_name": "Python 3 (ipykernel)",
   "language": "python",
   "name": "python3"
  },
  "language_info": {
   "codemirror_mode": {
    "name": "ipython",
    "version": 3
   },
   "file_extension": ".py",
   "mimetype": "text/x-python",
   "name": "python",
   "nbconvert_exporter": "python",
   "pygments_lexer": "ipython3",
   "version": "3.13.2"
  }
 },
 "nbformat": 4,
 "nbformat_minor": 5
}
