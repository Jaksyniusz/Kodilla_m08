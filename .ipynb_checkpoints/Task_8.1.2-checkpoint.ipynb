{
 "cells": [
  {
   "cell_type": "markdown",
   "id": "cd3485c3-51c4-4c58-a8bf-ef433db92099",
   "metadata": {},
   "source": [
    "## Ćwiczenie\n",
    "\n",
    "Połącz ze sobą df1, df2, df3 wzdłuż osi poziomej używając funkcji concat. Postaraj się, aby połączona tabela nie rozszerzała się na dodatkowe wiersze w dół."
   ]
  },
  {
   "cell_type": "code",
   "execution_count": 1,
   "id": "7eb4fac4-e126-4763-a9e5-dc0b7ee5cc6c",
   "metadata": {},
   "outputs": [
    {
     "name": "stdout",
     "output_type": "stream",
     "text": [
      "    A   B   C   D   A   B   C   D    A    B    C    D\n",
      "0  A0  B0  C0  D0  A4  B4  C4  D4   A8   B8   C8   D8\n",
      "1  A1  B1  C1  D1  A5  B5  C5  D5   A9   B9   C9   D9\n",
      "2  A2  B2  C2  D2  A6  B6  C6  D6  A10  B10  C10  D10\n",
      "3  A3  B3  C3  D3  A7  B7  C7  D7  A11  B11  C11  D11\n"
     ]
    }
   ],
   "source": [
    "import pandas as pd\n",
    "\n",
    "# Ramki danych\n",
    "df1 = pd.DataFrame({'A': ['A0', 'A1', 'A2', 'A3'],\n",
    "                    'B': ['B0', 'B1', 'B2', 'B3'],\n",
    "                    'C': ['C0', 'C1', 'C2', 'C3'],\n",
    "                    'D': ['D0', 'D1', 'D2', 'D3']},\n",
    "                    index=[0, 1, 2, 3])\n",
    "\n",
    "df2 = pd.DataFrame({'A': ['A4', 'A5', 'A6', 'A7'],\n",
    "                    'B': ['B4', 'B5', 'B6', 'B7'],\n",
    "                    'C': ['C4', 'C5', 'C6', 'C7'],\n",
    "                    'D': ['D4', 'D5', 'D6', 'D7']},\n",
    "                    index=[4, 5, 6, 7])\n",
    "\n",
    "df3 = pd.DataFrame({'A': ['A8', 'A9', 'A10', 'A11'],\n",
    "                    'B': ['B8', 'B9', 'B10', 'B11'],\n",
    "                    'C': ['C8', 'C9', 'C10', 'C11'],\n",
    "                    'D': ['D8', 'D9', 'D10', 'D11']},\n",
    "                    index=[8, 9, 10, 11])\n",
    "\n",
    "# Resetowanie indeksów, aby były takie same\n",
    "df1.reset_index(drop=True, inplace=True)\n",
    "df2.reset_index(drop=True, inplace=True)\n",
    "df3.reset_index(drop=True, inplace=True)\n",
    "\n",
    "# Połączenie ramek wzdłuż osi poziomej\n",
    "result = pd.concat([df1, df2, df3], axis=1)\n",
    "\n",
    "print(result)"
   ]
  },
  {
   "cell_type": "code",
   "execution_count": null,
   "id": "2f362d78-63ee-43cc-9e43-0248c7e44058",
   "metadata": {},
   "outputs": [],
   "source": []
  }
 ],
 "metadata": {
  "kernelspec": {
   "display_name": "Python 3 (ipykernel)",
   "language": "python",
   "name": "python3"
  },
  "language_info": {
   "codemirror_mode": {
    "name": "ipython",
    "version": 3
   },
   "file_extension": ".py",
   "mimetype": "text/x-python",
   "name": "python",
   "nbconvert_exporter": "python",
   "pygments_lexer": "ipython3",
   "version": "3.13.2"
  }
 },
 "nbformat": 4,
 "nbformat_minor": 5
}
